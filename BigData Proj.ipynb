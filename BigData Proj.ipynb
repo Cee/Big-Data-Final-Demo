{
 "cells": [
  {
   "cell_type": "code",
   "execution_count": 1,
   "metadata": {},
   "outputs": [
    {
     "name": "stdout",
     "output_type": "stream",
     "text": [
      "business.json\t\t\t\t tip.json\r\n",
      "checkin.json\t\t\t\t uscitiesv1.3.csv\r\n",
      "Dataset_Challenge_Dataset_Agreement.pdf  user.json\r\n",
      "photos.json\t\t\t\t Yelp_Dataset_Challenge_Round_11.pdf\r\n",
      "review.json\r\n"
     ]
    }
   ],
   "source": [
    "!ls /shared/dataset"
   ]
  },
  {
   "cell_type": "code",
   "execution_count": 2,
   "metadata": {},
   "outputs": [],
   "source": [
    "import pyspark\n",
    "# sc = pyspark.SparkContext('local[*]')\n",
    "from pyspark.sql import SparkSession\n",
    "from pyspark.sql import SQLContext\n",
    "from pyspark import SparkContext\n",
    "sc = SparkContext()\n",
    "sqlContext = SQLContext(sc)\n",
    "\n",
    "spark = SparkSession \\\n",
    "    .builder \\\n",
    "    .appName(\"Python Spark SQL basic example\") \\\n",
    "    .config(\"spark.some.config.option\", \"some-value\") \\\n",
    "    .getOrCreate()\n"
   ]
  },
  {
   "cell_type": "code",
   "execution_count": 16,
   "metadata": {},
   "outputs": [],
   "source": [
    "from pyspark.sql import functions as F"
   ]
  },
  {
   "cell_type": "code",
   "execution_count": 3,
   "metadata": {},
   "outputs": [],
   "source": [
    "BUSINESS = spark.read.json(\"/shared/dataset/business.json\")\n",
    "REVIEW = spark.read.json(\"/shared/dataset/review.json\");"
   ]
  },
  {
   "cell_type": "code",
   "execution_count": 4,
   "metadata": {},
   "outputs": [],
   "source": [
    "BUSINESS.registerTempTable(\"business\") \n",
    "REVIEW.registerTempTable(\"review\") "
   ]
  },
  {
   "cell_type": "code",
   "execution_count": 31,
   "metadata": {},
   "outputs": [],
   "source": [
    "review = REVIEW.select(\"business_id\", \"stars\").groupBy(review.business_id).agg(F.avg(review.stars).alias(\"real_stars\"))"
   ]
  },
  {
   "cell_type": "code",
   "execution_count": 37,
   "metadata": {},
   "outputs": [],
   "source": [
    "business = BUSINESS.join(review, BUSINESS.business_id==review.business_id).drop(review.business_id)"
   ]
  },
  {
   "cell_type": "code",
   "execution_count": 38,
   "metadata": {},
   "outputs": [
    {
     "name": "stdout",
     "output_type": "stream",
     "text": [
      "root\n",
      " |-- address: string (nullable = true)\n",
      " |-- attributes: struct (nullable = true)\n",
      " |    |-- AcceptsInsurance: boolean (nullable = true)\n",
      " |    |-- AgesAllowed: string (nullable = true)\n",
      " |    |-- Alcohol: string (nullable = true)\n",
      " |    |-- Ambience: struct (nullable = true)\n",
      " |    |    |-- casual: boolean (nullable = true)\n",
      " |    |    |-- classy: boolean (nullable = true)\n",
      " |    |    |-- divey: boolean (nullable = true)\n",
      " |    |    |-- hipster: boolean (nullable = true)\n",
      " |    |    |-- intimate: boolean (nullable = true)\n",
      " |    |    |-- romantic: boolean (nullable = true)\n",
      " |    |    |-- touristy: boolean (nullable = true)\n",
      " |    |    |-- trendy: boolean (nullable = true)\n",
      " |    |    |-- upscale: boolean (nullable = true)\n",
      " |    |-- BYOB: boolean (nullable = true)\n",
      " |    |-- BYOBCorkage: string (nullable = true)\n",
      " |    |-- BestNights: struct (nullable = true)\n",
      " |    |    |-- friday: boolean (nullable = true)\n",
      " |    |    |-- monday: boolean (nullable = true)\n",
      " |    |    |-- saturday: boolean (nullable = true)\n",
      " |    |    |-- sunday: boolean (nullable = true)\n",
      " |    |    |-- thursday: boolean (nullable = true)\n",
      " |    |    |-- tuesday: boolean (nullable = true)\n",
      " |    |    |-- wednesday: boolean (nullable = true)\n",
      " |    |-- BikeParking: boolean (nullable = true)\n",
      " |    |-- BusinessAcceptsBitcoin: boolean (nullable = true)\n",
      " |    |-- BusinessAcceptsCreditCards: boolean (nullable = true)\n",
      " |    |-- BusinessParking: struct (nullable = true)\n",
      " |    |    |-- garage: boolean (nullable = true)\n",
      " |    |    |-- lot: boolean (nullable = true)\n",
      " |    |    |-- street: boolean (nullable = true)\n",
      " |    |    |-- valet: boolean (nullable = true)\n",
      " |    |    |-- validated: boolean (nullable = true)\n",
      " |    |-- ByAppointmentOnly: boolean (nullable = true)\n",
      " |    |-- Caters: boolean (nullable = true)\n",
      " |    |-- CoatCheck: boolean (nullable = true)\n",
      " |    |-- Corkage: boolean (nullable = true)\n",
      " |    |-- DietaryRestrictions: struct (nullable = true)\n",
      " |    |    |-- dairy-free: boolean (nullable = true)\n",
      " |    |    |-- gluten-free: boolean (nullable = true)\n",
      " |    |    |-- halal: boolean (nullable = true)\n",
      " |    |    |-- kosher: boolean (nullable = true)\n",
      " |    |    |-- soy-free: boolean (nullable = true)\n",
      " |    |    |-- vegan: boolean (nullable = true)\n",
      " |    |    |-- vegetarian: boolean (nullable = true)\n",
      " |    |-- DogsAllowed: boolean (nullable = true)\n",
      " |    |-- DriveThru: boolean (nullable = true)\n",
      " |    |-- GoodForDancing: boolean (nullable = true)\n",
      " |    |-- GoodForKids: boolean (nullable = true)\n",
      " |    |-- GoodForMeal: struct (nullable = true)\n",
      " |    |    |-- breakfast: boolean (nullable = true)\n",
      " |    |    |-- brunch: boolean (nullable = true)\n",
      " |    |    |-- dessert: boolean (nullable = true)\n",
      " |    |    |-- dinner: boolean (nullable = true)\n",
      " |    |    |-- latenight: boolean (nullable = true)\n",
      " |    |    |-- lunch: boolean (nullable = true)\n",
      " |    |-- HairSpecializesIn: struct (nullable = true)\n",
      " |    |    |-- africanamerican: boolean (nullable = true)\n",
      " |    |    |-- asian: boolean (nullable = true)\n",
      " |    |    |-- coloring: boolean (nullable = true)\n",
      " |    |    |-- curly: boolean (nullable = true)\n",
      " |    |    |-- extensions: boolean (nullable = true)\n",
      " |    |    |-- kids: boolean (nullable = true)\n",
      " |    |    |-- perms: boolean (nullable = true)\n",
      " |    |    |-- straightperms: boolean (nullable = true)\n",
      " |    |-- HappyHour: boolean (nullable = true)\n",
      " |    |-- HasTV: boolean (nullable = true)\n",
      " |    |-- Music: struct (nullable = true)\n",
      " |    |    |-- background_music: boolean (nullable = true)\n",
      " |    |    |-- dj: boolean (nullable = true)\n",
      " |    |    |-- jukebox: boolean (nullable = true)\n",
      " |    |    |-- karaoke: boolean (nullable = true)\n",
      " |    |    |-- live: boolean (nullable = true)\n",
      " |    |    |-- no_music: boolean (nullable = true)\n",
      " |    |    |-- video: boolean (nullable = true)\n",
      " |    |-- NoiseLevel: string (nullable = true)\n",
      " |    |-- Open24Hours: boolean (nullable = true)\n",
      " |    |-- OutdoorSeating: boolean (nullable = true)\n",
      " |    |-- RestaurantsAttire: string (nullable = true)\n",
      " |    |-- RestaurantsCounterService: boolean (nullable = true)\n",
      " |    |-- RestaurantsDelivery: boolean (nullable = true)\n",
      " |    |-- RestaurantsGoodForGroups: boolean (nullable = true)\n",
      " |    |-- RestaurantsPriceRange2: long (nullable = true)\n",
      " |    |-- RestaurantsReservations: boolean (nullable = true)\n",
      " |    |-- RestaurantsTableService: boolean (nullable = true)\n",
      " |    |-- RestaurantsTakeOut: boolean (nullable = true)\n",
      " |    |-- Smoking: string (nullable = true)\n",
      " |    |-- WheelchairAccessible: boolean (nullable = true)\n",
      " |    |-- WiFi: string (nullable = true)\n",
      " |-- business_id: string (nullable = true)\n",
      " |-- categories: array (nullable = true)\n",
      " |    |-- element: string (containsNull = true)\n",
      " |-- city: string (nullable = true)\n",
      " |-- hours: struct (nullable = true)\n",
      " |    |-- Friday: string (nullable = true)\n",
      " |    |-- Monday: string (nullable = true)\n",
      " |    |-- Saturday: string (nullable = true)\n",
      " |    |-- Sunday: string (nullable = true)\n",
      " |    |-- Thursday: string (nullable = true)\n",
      " |    |-- Tuesday: string (nullable = true)\n",
      " |    |-- Wednesday: string (nullable = true)\n",
      " |-- is_open: long (nullable = true)\n",
      " |-- latitude: double (nullable = true)\n",
      " |-- longitude: double (nullable = true)\n",
      " |-- name: string (nullable = true)\n",
      " |-- neighborhood: string (nullable = true)\n",
      " |-- postal_code: string (nullable = true)\n",
      " |-- review_count: long (nullable = true)\n",
      " |-- stars: double (nullable = true)\n",
      " |-- state: string (nullable = true)\n",
      " |-- real_stars: double (nullable = true)\n",
      "\n"
     ]
    }
   ],
   "source": [
    "business.printSchema()"
   ]
  },
  {
   "cell_type": "code",
   "execution_count": 39,
   "metadata": {},
   "outputs": [],
   "source": [
    "from pyspark.sql import functions as F\n",
    "\n",
    "def flatten_df(nested_df):\n",
    "    flat_cols = [c[0] for c in nested_df.dtypes if c[1][:6] != 'struct']\n",
    "    nested_cols = [c[0] for c in nested_df.dtypes if c[1][:6] == 'struct']\n",
    "\n",
    "    flat_df = nested_df.select(flat_cols +\n",
    "                               [F.col(nc+'.'+c).alias(nc+'_'+c)\n",
    "                                for nc in nested_cols\n",
    "                                for c in nested_df.select(nc+'.*').columns])\n",
    "    return flat_df"
   ]
  },
  {
   "cell_type": "code",
   "execution_count": 40,
   "metadata": {},
   "outputs": [],
   "source": [
    "business_ = flatten_df(flatten_df(business))"
   ]
  },
  {
   "cell_type": "code",
   "execution_count": 63,
   "metadata": {},
   "outputs": [],
   "source": [
    "from pyspark.sql.functions import array_contains\n",
    "business_ = business_.where(array_contains('categories', 'Restaurants'))"
   ]
  },
  {
   "cell_type": "code",
   "execution_count": 64,
   "metadata": {},
   "outputs": [
    {
     "data": {
      "text/plain": [
       "54618"
      ]
     },
     "execution_count": 64,
     "metadata": {},
     "output_type": "execute_result"
    }
   ],
   "source": [
    "business_.count()"
   ]
  },
  {
   "cell_type": "code",
   "execution_count": 65,
   "metadata": {},
   "outputs": [
    {
     "name": "stdout",
     "output_type": "stream",
     "text": [
      "root\n",
      " |-- address: string (nullable = true)\n",
      " |-- business_id: string (nullable = true)\n",
      " |-- categories: array (nullable = true)\n",
      " |    |-- element: string (containsNull = true)\n",
      " |-- city: string (nullable = true)\n",
      " |-- is_open: long (nullable = true)\n",
      " |-- latitude: double (nullable = true)\n",
      " |-- longitude: double (nullable = true)\n",
      " |-- name: string (nullable = true)\n",
      " |-- neighborhood: string (nullable = true)\n",
      " |-- postal_code: string (nullable = true)\n",
      " |-- review_count: long (nullable = true)\n",
      " |-- stars: double (nullable = true)\n",
      " |-- state: string (nullable = true)\n",
      " |-- real_stars: double (nullable = true)\n",
      " |-- attributes_AcceptsInsurance: boolean (nullable = true)\n",
      " |-- attributes_AgesAllowed: string (nullable = true)\n",
      " |-- attributes_Alcohol: string (nullable = true)\n",
      " |-- attributes_BYOB: boolean (nullable = true)\n",
      " |-- attributes_BYOBCorkage: string (nullable = true)\n",
      " |-- attributes_BikeParking: boolean (nullable = true)\n",
      " |-- attributes_BusinessAcceptsBitcoin: boolean (nullable = true)\n",
      " |-- attributes_BusinessAcceptsCreditCards: boolean (nullable = true)\n",
      " |-- attributes_ByAppointmentOnly: boolean (nullable = true)\n",
      " |-- attributes_Caters: boolean (nullable = true)\n",
      " |-- attributes_CoatCheck: boolean (nullable = true)\n",
      " |-- attributes_Corkage: boolean (nullable = true)\n",
      " |-- attributes_DogsAllowed: boolean (nullable = true)\n",
      " |-- attributes_DriveThru: boolean (nullable = true)\n",
      " |-- attributes_GoodForDancing: boolean (nullable = true)\n",
      " |-- attributes_GoodForKids: boolean (nullable = true)\n",
      " |-- attributes_HappyHour: boolean (nullable = true)\n",
      " |-- attributes_HasTV: boolean (nullable = true)\n",
      " |-- attributes_NoiseLevel: string (nullable = true)\n",
      " |-- attributes_Open24Hours: boolean (nullable = true)\n",
      " |-- attributes_OutdoorSeating: boolean (nullable = true)\n",
      " |-- attributes_RestaurantsAttire: string (nullable = true)\n",
      " |-- attributes_RestaurantsCounterService: boolean (nullable = true)\n",
      " |-- attributes_RestaurantsDelivery: boolean (nullable = true)\n",
      " |-- attributes_RestaurantsGoodForGroups: boolean (nullable = true)\n",
      " |-- attributes_RestaurantsPriceRange2: long (nullable = true)\n",
      " |-- attributes_RestaurantsReservations: boolean (nullable = true)\n",
      " |-- attributes_RestaurantsTableService: boolean (nullable = true)\n",
      " |-- attributes_RestaurantsTakeOut: boolean (nullable = true)\n",
      " |-- attributes_Smoking: string (nullable = true)\n",
      " |-- attributes_WheelchairAccessible: boolean (nullable = true)\n",
      " |-- attributes_WiFi: string (nullable = true)\n",
      " |-- hours_Friday: string (nullable = true)\n",
      " |-- hours_Monday: string (nullable = true)\n",
      " |-- hours_Saturday: string (nullable = true)\n",
      " |-- hours_Sunday: string (nullable = true)\n",
      " |-- hours_Thursday: string (nullable = true)\n",
      " |-- hours_Tuesday: string (nullable = true)\n",
      " |-- hours_Wednesday: string (nullable = true)\n",
      " |-- attributes_Ambience_casual: boolean (nullable = true)\n",
      " |-- attributes_Ambience_classy: boolean (nullable = true)\n",
      " |-- attributes_Ambience_divey: boolean (nullable = true)\n",
      " |-- attributes_Ambience_hipster: boolean (nullable = true)\n",
      " |-- attributes_Ambience_intimate: boolean (nullable = true)\n",
      " |-- attributes_Ambience_romantic: boolean (nullable = true)\n",
      " |-- attributes_Ambience_touristy: boolean (nullable = true)\n",
      " |-- attributes_Ambience_trendy: boolean (nullable = true)\n",
      " |-- attributes_Ambience_upscale: boolean (nullable = true)\n",
      " |-- attributes_BestNights_friday: boolean (nullable = true)\n",
      " |-- attributes_BestNights_monday: boolean (nullable = true)\n",
      " |-- attributes_BestNights_saturday: boolean (nullable = true)\n",
      " |-- attributes_BestNights_sunday: boolean (nullable = true)\n",
      " |-- attributes_BestNights_thursday: boolean (nullable = true)\n",
      " |-- attributes_BestNights_tuesday: boolean (nullable = true)\n",
      " |-- attributes_BestNights_wednesday: boolean (nullable = true)\n",
      " |-- attributes_BusinessParking_garage: boolean (nullable = true)\n",
      " |-- attributes_BusinessParking_lot: boolean (nullable = true)\n",
      " |-- attributes_BusinessParking_street: boolean (nullable = true)\n",
      " |-- attributes_BusinessParking_valet: boolean (nullable = true)\n",
      " |-- attributes_BusinessParking_validated: boolean (nullable = true)\n",
      " |-- attributes_DietaryRestrictions_dairy-free: boolean (nullable = true)\n",
      " |-- attributes_DietaryRestrictions_gluten-free: boolean (nullable = true)\n",
      " |-- attributes_DietaryRestrictions_halal: boolean (nullable = true)\n",
      " |-- attributes_DietaryRestrictions_kosher: boolean (nullable = true)\n",
      " |-- attributes_DietaryRestrictions_soy-free: boolean (nullable = true)\n",
      " |-- attributes_DietaryRestrictions_vegan: boolean (nullable = true)\n",
      " |-- attributes_DietaryRestrictions_vegetarian: boolean (nullable = true)\n",
      " |-- attributes_GoodForMeal_breakfast: boolean (nullable = true)\n",
      " |-- attributes_GoodForMeal_brunch: boolean (nullable = true)\n",
      " |-- attributes_GoodForMeal_dessert: boolean (nullable = true)\n",
      " |-- attributes_GoodForMeal_dinner: boolean (nullable = true)\n",
      " |-- attributes_GoodForMeal_latenight: boolean (nullable = true)\n",
      " |-- attributes_GoodForMeal_lunch: boolean (nullable = true)\n",
      " |-- attributes_HairSpecializesIn_africanamerican: boolean (nullable = true)\n",
      " |-- attributes_HairSpecializesIn_asian: boolean (nullable = true)\n",
      " |-- attributes_HairSpecializesIn_coloring: boolean (nullable = true)\n",
      " |-- attributes_HairSpecializesIn_curly: boolean (nullable = true)\n",
      " |-- attributes_HairSpecializesIn_extensions: boolean (nullable = true)\n",
      " |-- attributes_HairSpecializesIn_kids: boolean (nullable = true)\n",
      " |-- attributes_HairSpecializesIn_perms: boolean (nullable = true)\n",
      " |-- attributes_HairSpecializesIn_straightperms: boolean (nullable = true)\n",
      " |-- attributes_Music_background_music: boolean (nullable = true)\n",
      " |-- attributes_Music_dj: boolean (nullable = true)\n",
      " |-- attributes_Music_jukebox: boolean (nullable = true)\n",
      " |-- attributes_Music_karaoke: boolean (nullable = true)\n",
      " |-- attributes_Music_live: boolean (nullable = true)\n",
      " |-- attributes_Music_no_music: boolean (nullable = true)\n",
      " |-- attributes_Music_video: boolean (nullable = true)\n",
      "\n"
     ]
    }
   ],
   "source": [
    "business_.printSchema()"
   ]
  },
  {
   "cell_type": "code",
   "execution_count": 66,
   "metadata": {},
   "outputs": [],
   "source": [
    "# business = business.withColumn('column_as_str',array_to_string_udf(business[\"categories\"]))\n",
    "business_.toPandas().to_csv('/shared/business_.csv')"
   ]
  },
  {
   "cell_type": "code",
   "execution_count": 67,
   "metadata": {},
   "outputs": [
    {
     "name": "stdout",
     "output_type": "stream",
     "text": [
      "business_clean.csv  flights_train.csv  review.csv\r\n",
      "business_.csv\t    Homework 4.ipynb   SunSpots_KNN.csv\r\n",
      "business.csv\t    input.json\t       SunSpots_moving_avg.csv\r\n",
      "dataset\t\t    lib\t\t       sunspots.txt\r\n",
      "flights_test.csv    output\t       yelp_dataset.tar\r\n"
     ]
    }
   ],
   "source": [
    "! ls /shared"
   ]
  },
  {
   "cell_type": "code",
   "execution_count": 68,
   "metadata": {},
   "outputs": [],
   "source": [
    "empty_columns = [\n",
    "'attributes_AcceptsInsurance',\n",
    "'attributes_AgesAllowed',\n",
    "'attributes_BYOB',\n",
    "'attributes_BYOBCorkage',\n",
    "'attributes_BusinessAcceptsBitcoin',\n",
    "'attributes_ByAppointmentOnly',\n",
    "'attributes_CoatCheck',\n",
    "'attributes_Corkage',\n",
    "'attributes_DogsAllowed',\n",
    "'attributes_DriveThru',\n",
    "'attributes_GoodForDancing',\n",
    "'attributes_HappyHour',\n",
    "'attributes_Open24Hours',\n",
    "'attributes_RestaurantsCounterService',\n",
    "'attributes_Smoking',\n",
    "'attributes_BestNights_friday',\n",
    "'attributes_BestNights_monday',\n",
    "'attributes_BestNights_saturday',\n",
    "'attributes_BestNights_sunday',\n",
    "'attributes_BestNights_thursday',\n",
    "'attributes_BestNights_tuesday',\n",
    "'attributes_BestNights_wednesday',\n",
    "'attributes_DietaryRestrictions_dairy',\n",
    "'attributes_DietaryRestrictions_gluten',\n",
    "'attributes_DietaryRestrictions_halal',\n",
    "'attributes_DietaryRestrictions_kosher',\n",
    "'attributes_DietaryRestrictions_soy',\n",
    "'attributes_DietaryRestrictions_vegan',\n",
    "'attributes_DietaryRestrictions_vegetarian',\n",
    "'attributes_HairSpecializesIn_africanamerican',\n",
    "'attributes_HairSpecializesIn_asian',\n",
    "'attributes_HairSpecializesIn_coloring',\n",
    "'attributes_HairSpecializesIn_curly',\n",
    "'attributes_HairSpecializesIn_extensions',\n",
    "'attributes_HairSpecializesIn_kids',\n",
    "'attributes_HairSpecializesIn_perms',\n",
    "'attributes_HairSpecializesIn_straightperms',\n",
    "'attributes_Music_background_music',\n",
    "'attributes_Music_dj',\n",
    "'attributes_Music_jukebox',\n",
    "'attributes_Music_karaoke',\n",
    "'attributes_Music_live',\n",
    "'attributes_Music_no_music',\n",
    "'attributes_Music_video'\n",
    "]"
   ]
  },
  {
   "cell_type": "code",
   "execution_count": 69,
   "metadata": {},
   "outputs": [],
   "source": [
    "business_clean = business_\n",
    "for column in empty_columns:\n",
    "    business_clean = business_clean.drop(column)"
   ]
  },
  {
   "cell_type": "code",
   "execution_count": 71,
   "metadata": {},
   "outputs": [],
   "source": [
    "business_clean.toPandas().to_csv('/shared/business_clean.csv')"
   ]
  },
  {
   "cell_type": "code",
   "execution_count": 70,
   "metadata": {},
   "outputs": [
    {
     "name": "stdout",
     "output_type": "stream",
     "text": [
      "root\n",
      " |-- address: string (nullable = true)\n",
      " |-- business_id: string (nullable = true)\n",
      " |-- categories: array (nullable = true)\n",
      " |    |-- element: string (containsNull = true)\n",
      " |-- city: string (nullable = true)\n",
      " |-- is_open: long (nullable = true)\n",
      " |-- latitude: double (nullable = true)\n",
      " |-- longitude: double (nullable = true)\n",
      " |-- name: string (nullable = true)\n",
      " |-- neighborhood: string (nullable = true)\n",
      " |-- postal_code: string (nullable = true)\n",
      " |-- review_count: long (nullable = true)\n",
      " |-- stars: double (nullable = true)\n",
      " |-- state: string (nullable = true)\n",
      " |-- real_stars: double (nullable = true)\n",
      " |-- attributes_Alcohol: string (nullable = true)\n",
      " |-- attributes_BikeParking: boolean (nullable = true)\n",
      " |-- attributes_BusinessAcceptsCreditCards: boolean (nullable = true)\n",
      " |-- attributes_Caters: boolean (nullable = true)\n",
      " |-- attributes_GoodForKids: boolean (nullable = true)\n",
      " |-- attributes_HasTV: boolean (nullable = true)\n",
      " |-- attributes_NoiseLevel: string (nullable = true)\n",
      " |-- attributes_OutdoorSeating: boolean (nullable = true)\n",
      " |-- attributes_RestaurantsAttire: string (nullable = true)\n",
      " |-- attributes_RestaurantsDelivery: boolean (nullable = true)\n",
      " |-- attributes_RestaurantsGoodForGroups: boolean (nullable = true)\n",
      " |-- attributes_RestaurantsPriceRange2: long (nullable = true)\n",
      " |-- attributes_RestaurantsReservations: boolean (nullable = true)\n",
      " |-- attributes_RestaurantsTableService: boolean (nullable = true)\n",
      " |-- attributes_RestaurantsTakeOut: boolean (nullable = true)\n",
      " |-- attributes_WheelchairAccessible: boolean (nullable = true)\n",
      " |-- attributes_WiFi: string (nullable = true)\n",
      " |-- hours_Friday: string (nullable = true)\n",
      " |-- hours_Monday: string (nullable = true)\n",
      " |-- hours_Saturday: string (nullable = true)\n",
      " |-- hours_Sunday: string (nullable = true)\n",
      " |-- hours_Thursday: string (nullable = true)\n",
      " |-- hours_Tuesday: string (nullable = true)\n",
      " |-- hours_Wednesday: string (nullable = true)\n",
      " |-- attributes_Ambience_casual: boolean (nullable = true)\n",
      " |-- attributes_Ambience_classy: boolean (nullable = true)\n",
      " |-- attributes_Ambience_divey: boolean (nullable = true)\n",
      " |-- attributes_Ambience_hipster: boolean (nullable = true)\n",
      " |-- attributes_Ambience_intimate: boolean (nullable = true)\n",
      " |-- attributes_Ambience_romantic: boolean (nullable = true)\n",
      " |-- attributes_Ambience_touristy: boolean (nullable = true)\n",
      " |-- attributes_Ambience_trendy: boolean (nullable = true)\n",
      " |-- attributes_Ambience_upscale: boolean (nullable = true)\n",
      " |-- attributes_BusinessParking_garage: boolean (nullable = true)\n",
      " |-- attributes_BusinessParking_lot: boolean (nullable = true)\n",
      " |-- attributes_BusinessParking_street: boolean (nullable = true)\n",
      " |-- attributes_BusinessParking_valet: boolean (nullable = true)\n",
      " |-- attributes_BusinessParking_validated: boolean (nullable = true)\n",
      " |-- attributes_DietaryRestrictions_dairy-free: boolean (nullable = true)\n",
      " |-- attributes_DietaryRestrictions_gluten-free: boolean (nullable = true)\n",
      " |-- attributes_DietaryRestrictions_soy-free: boolean (nullable = true)\n",
      " |-- attributes_GoodForMeal_breakfast: boolean (nullable = true)\n",
      " |-- attributes_GoodForMeal_brunch: boolean (nullable = true)\n",
      " |-- attributes_GoodForMeal_dessert: boolean (nullable = true)\n",
      " |-- attributes_GoodForMeal_dinner: boolean (nullable = true)\n",
      " |-- attributes_GoodForMeal_latenight: boolean (nullable = true)\n",
      " |-- attributes_GoodForMeal_lunch: boolean (nullable = true)\n",
      "\n"
     ]
    }
   ],
   "source": [
    "business_clean.printSchema()"
   ]
  },
  {
   "cell_type": "code",
   "execution_count": 150,
   "metadata": {},
   "outputs": [],
   "source": [
    "categories = business_clean.select(F.explode(\"categories\")).distinct().count()"
   ]
  },
  {
   "cell_type": "code",
   "execution_count": 105,
   "metadata": {},
   "outputs": [],
   "source": [
    "business_chinese = business_clean.where(array_contains('categories', 'Chinese'))\n",
    "business_chinese.toPandas().to_csv('/shared/business_chinese.csv')"
   ]
  },
  {
   "cell_type": "code",
   "execution_count": 106,
   "metadata": {},
   "outputs": [],
   "source": [
    "business_japanese = business_clean.where(array_contains('categories', 'Japanese'))\n",
    "business_japanese.toPandas().to_csv('/shared/business_japanese.csv')"
   ]
  },
  {
   "cell_type": "code",
   "execution_count": 154,
   "metadata": {},
   "outputs": [],
   "source": [
    "state_cate = business_.select(F.explode(\"categories\").alias(\"category\"), \"state\", \"real_stars\")\\\n",
    "        .groupby(\"category\", \"state\")\\\n",
    "        .agg(F.count(\"*\").alias(\"cnt\"), F.avg(\"real_stars\").alias(\"stars\"))\\\n",
    "        .filter(\"cnt >= 10\")\\\n",
    "        .filter(\"category != 'Restaurants'\")"
   ]
  },
  {
   "cell_type": "code",
   "execution_count": 148,
   "metadata": {},
   "outputs": [
    {
     "name": "stdout",
     "output_type": "stream",
     "text": [
      "root\n",
      " |-- category: string (nullable = true)\n",
      " |-- state: string (nullable = true)\n",
      " |-- cnt: long (nullable = false)\n",
      " |-- stars: double (nullable = true)\n",
      "\n",
      "+--------------------+-----+-----+------------------+\n",
      "|            category|state|  cnt|             stars|\n",
      "+--------------------+-----+-----+------------------+\n",
      "|               Irish|   ON|   51| 3.192984389454761|\n",
      "|American (Traditi...|   IL|   93| 3.348595856145919|\n",
      "|              Indian|  MLN|   10| 3.735530303030303|\n",
      "|          Sushi Bars|   NV|  296|3.8125834959361637|\n",
      "|             Italian|   NV|  483|3.4920416712470894|\n",
      "|           Creperies|   NV|   25| 3.761921396785193|\n",
      "|            Southern|   ON|   53|3.7080587532207407|\n",
      "|           Argentine|   ON|   14|3.5758414238808536|\n",
      "|        Cajun/Creole|   NV|   43|3.6520770959104234|\n",
      "|         Restaurants|   ON|13501|3.3769128277346017|\n",
      "+--------------------+-----+-----+------------------+\n",
      "\n"
     ]
    }
   ],
   "source": [
    "state_cate.printSchema()\n",
    "state_cate.limit(10).show()"
   ]
  },
  {
   "cell_type": "code",
   "execution_count": 137,
   "metadata": {},
   "outputs": [],
   "source": [
    "from pyspark.sql.window import Window\n",
    "from pyspark.sql.functions import rank, col"
   ]
  },
  {
   "cell_type": "code",
   "execution_count": 160,
   "metadata": {},
   "outputs": [],
   "source": [
    "window = Window.partitionBy(state_cate['state']).orderBy(state_cate['stars'].desc())\n",
    "top_10_each_state = state_cate.select('*', rank().over(window).alias('rank'))\\\n",
    "          .filter(col('rank') <= 10)"
   ]
  },
  {
   "cell_type": "code",
   "execution_count": 161,
   "metadata": {},
   "outputs": [],
   "source": [
    "top_10_each_state.toPandas().to_csv('/shared/top_10_each_state.csv')"
   ]
  },
  {
   "cell_type": "code",
   "execution_count": 173,
   "metadata": {},
   "outputs": [],
   "source": [
    "top_cities_chinese = business_chinese\\\n",
    "                .select('state', 'city', 'real_stars')\\\n",
    "                .groupBy('state', 'city')\\\n",
    "                .agg(F.count('*').alias('cnt'), F.avg('real_stars').alias('stars'))\\\n",
    "                .filter('cnt >= 10')\\\n",
    "                .orderBy(F.col('stars').desc())"
   ]
  },
  {
   "cell_type": "code",
   "execution_count": 175,
   "metadata": {},
   "outputs": [],
   "source": [
    "top_cities_chinese.toPandas().to_csv('/shared/top_cities_chinese.csv')"
   ]
  },
  {
   "cell_type": "code",
   "execution_count": null,
   "metadata": {},
   "outputs": [],
   "source": []
  }
 ],
 "metadata": {
  "kernelspec": {
   "display_name": "Python 3",
   "language": "python",
   "name": "python3"
  },
  "language_info": {
   "codemirror_mode": {
    "name": "ipython",
    "version": 3
   },
   "file_extension": ".py",
   "mimetype": "text/x-python",
   "name": "python",
   "nbconvert_exporter": "python",
   "pygments_lexer": "ipython3",
   "version": "3.6.2"
  }
 },
 "nbformat": 4,
 "nbformat_minor": 2
}
